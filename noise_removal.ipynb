{
  "cells": [
    {
      "cell_type": "markdown",
      "metadata": {
        "id": "view-in-github",
        "colab_type": "text"
      },
      "source": [
        "<a href=\"https://colab.research.google.com/github/Sri777harsha/FML/blob/main/noise_removal.ipynb\" target=\"_parent\"><img src=\"https://colab.research.google.com/assets/colab-badge.svg\" alt=\"Open In Colab\"/></a>"
      ]
    },
    {
      "cell_type": "code",
      "source": [
        "  pip install nltk"
      ],
      "metadata": {
        "colab": {
          "base_uri": "https://localhost:8080/"
        },
        "id": "aiPQ0nCkPVoe",
        "outputId": "acdc7eab-aca4-45f1-830a-46ef4352f10b"
      },
      "execution_count": 1,
      "outputs": [
        {
          "output_type": "stream",
          "name": "stdout",
          "text": [
            "Looking in indexes: https://pypi.org/simple, https://us-python.pkg.dev/colab-wheels/public/simple/\n",
            "Requirement already satisfied: nltk in /usr/local/lib/python3.10/dist-packages (3.8.1)\n",
            "Requirement already satisfied: click in /usr/local/lib/python3.10/dist-packages (from nltk) (8.1.3)\n",
            "Requirement already satisfied: joblib in /usr/local/lib/python3.10/dist-packages (from nltk) (1.2.0)\n",
            "Requirement already satisfied: regex>=2021.8.3 in /usr/local/lib/python3.10/dist-packages (from nltk) (2022.10.31)\n",
            "Requirement already satisfied: tqdm in /usr/local/lib/python3.10/dist-packages (from nltk) (4.65.0)\n"
          ]
        }
      ]
    },
    {
      "cell_type": "code",
      "source": [
        "import nltk\n",
        "nltk.download('punkt')\n",
        "nltk.download('stopwords')"
      ],
      "metadata": {
        "colab": {
          "base_uri": "https://localhost:8080/"
        },
        "id": "sCZqKXn8PqDz",
        "outputId": "a73d1f60-0a91-46d2-d7bf-ce25d683b138"
      },
      "execution_count": 2,
      "outputs": [
        {
          "output_type": "stream",
          "name": "stderr",
          "text": [
            "[nltk_data] Downloading package punkt to /root/nltk_data...\n",
            "[nltk_data]   Unzipping tokenizers/punkt.zip.\n",
            "[nltk_data] Downloading package stopwords to /root/nltk_data...\n",
            "[nltk_data]   Unzipping corpora/stopwords.zip.\n"
          ]
        },
        {
          "output_type": "execute_result",
          "data": {
            "text/plain": [
              "True"
            ]
          },
          "metadata": {},
          "execution_count": 2
        }
      ]
    },
    {
      "cell_type": "markdown",
      "source": [
        "NOISE REMOVAL\n"
      ],
      "metadata": {
        "id": "Zzhhhop2QWK3"
      }
    },
    {
      "cell_type": "markdown",
      "source": [
        "Noise Removal includes of \n",
        "1. Removing of stopwords\n",
        "2. Removing of punctuation marks"
      ],
      "metadata": {
        "id": "sw2mQhuQQdsj"
      }
    },
    {
      "cell_type": "code",
      "source": [
        "from nltk.corpus import stopwords\n",
        "print(stopwords.words('english'))"
      ],
      "metadata": {
        "colab": {
          "base_uri": "https://localhost:8080/"
        },
        "id": "majG5BU4QDxz",
        "outputId": "4258a673-8a56-4674-9ded-b0b651e96f09"
      },
      "execution_count": 3,
      "outputs": [
        {
          "output_type": "stream",
          "name": "stdout",
          "text": [
            "['i', 'me', 'my', 'myself', 'we', 'our', 'ours', 'ourselves', 'you', \"you're\", \"you've\", \"you'll\", \"you'd\", 'your', 'yours', 'yourself', 'yourselves', 'he', 'him', 'his', 'himself', 'she', \"she's\", 'her', 'hers', 'herself', 'it', \"it's\", 'its', 'itself', 'they', 'them', 'their', 'theirs', 'themselves', 'what', 'which', 'who', 'whom', 'this', 'that', \"that'll\", 'these', 'those', 'am', 'is', 'are', 'was', 'were', 'be', 'been', 'being', 'have', 'has', 'had', 'having', 'do', 'does', 'did', 'doing', 'a', 'an', 'the', 'and', 'but', 'if', 'or', 'because', 'as', 'until', 'while', 'of', 'at', 'by', 'for', 'with', 'about', 'against', 'between', 'into', 'through', 'during', 'before', 'after', 'above', 'below', 'to', 'from', 'up', 'down', 'in', 'out', 'on', 'off', 'over', 'under', 'again', 'further', 'then', 'once', 'here', 'there', 'when', 'where', 'why', 'how', 'all', 'any', 'both', 'each', 'few', 'more', 'most', 'other', 'some', 'such', 'no', 'nor', 'not', 'only', 'own', 'same', 'so', 'than', 'too', 'very', 's', 't', 'can', 'will', 'just', 'don', \"don't\", 'should', \"should've\", 'now', 'd', 'll', 'm', 'o', 're', 've', 'y', 'ain', 'aren', \"aren't\", 'couldn', \"couldn't\", 'didn', \"didn't\", 'doesn', \"doesn't\", 'hadn', \"hadn't\", 'hasn', \"hasn't\", 'haven', \"haven't\", 'isn', \"isn't\", 'ma', 'mightn', \"mightn't\", 'mustn', \"mustn't\", 'needn', \"needn't\", 'shan', \"shan't\", 'shouldn', \"shouldn't\", 'wasn', \"wasn't\", 'weren', \"weren't\", 'won', \"won't\", 'wouldn', \"wouldn't\"]\n"
          ]
        }
      ]
    },
    {
      "cell_type": "markdown",
      "source": [
        "1.Removing of stopwords"
      ],
      "metadata": {
        "id": "td2p30hoT2-F"
      }
    },
    {
      "cell_type": "code",
      "source": [
        "from nltk.tokenize import word_tokenize"
      ],
      "metadata": {
        "id": "w2iSo-qWRJmG"
      },
      "execution_count": 4,
      "outputs": []
    },
    {
      "cell_type": "code",
      "source": [
        "sent=\"\"\"The old man sat on the bench, watching the children play. He smiled as he remembered a time when he was young and carefree, just like them. He had always loved to play, and he had always been good at it. He was the fastest runner on his block, and he could climb trees higher than anyone else. He was also the best at hide-and-seek, and he could always find the best hiding spots.\n",
        "The old man sighed as he remembered how much his life had changed since those days. He had grown up, gotten married, and had children of his own. He had worked hard all his life, and he had achieved a lot. But now, he was old and tired. He had lost his wife, and his children were grown and gone. He was all alone in the world.\n",
        "But even though he was old and tired, the old man still loved to watch the children play. He loved to see their laughter and their joy. He loved to see them running and playing, and he loved to see them exploring the world around them. The old man knew that one day, they would grow up and leave him just like his own children \n",
        "had. But until then, he would enjoy watching them play, and he would cherish the memories of his own childhood.\"\"\""
      ],
      "metadata": {
        "id": "rYsFQ8pJRXlY"
      },
      "execution_count": 5,
      "outputs": []
    },
    {
      "cell_type": "code",
      "source": [
        "stop_words=list(set(stopwords.words('english')))\n",
        "tokens=word_tokenize(sent)\n",
        "filtered_sentence=[]\n",
        "for i in tokens:\n",
        "  if i.lower() not in stop_words:\n",
        "    filtered_sentence.append(i)\n",
        "print(tokens)\n",
        "print(filtered_sentence)"
      ],
      "metadata": {
        "colab": {
          "base_uri": "https://localhost:8080/"
        },
        "id": "-QWFvSE0SAgv",
        "outputId": "340b698b-2fa0-4593-c24a-55bb25b23b2b"
      },
      "execution_count": 11,
      "outputs": [
        {
          "output_type": "stream",
          "name": "stdout",
          "text": [
            "['The', 'old', 'man', 'sat', 'on', 'the', 'bench', ',', 'watching', 'the', 'children', 'play', '.', 'He', 'smiled', 'as', 'he', 'remembered', 'a', 'time', 'when', 'he', 'was', 'young', 'and', 'carefree', ',', 'just', 'like', 'them', '.', 'He', 'had', 'always', 'loved', 'to', 'play', ',', 'and', 'he', 'had', 'always', 'been', 'good', 'at', 'it', '.', 'He', 'was', 'the', 'fastest', 'runner', 'on', 'his', 'block', ',', 'and', 'he', 'could', 'climb', 'trees', 'higher', 'than', 'anyone', 'else', '.', 'He', 'was', 'also', 'the', 'best', 'at', 'hide-and-seek', ',', 'and', 'he', 'could', 'always', 'find', 'the', 'best', 'hiding', 'spots', '.', 'The', 'old', 'man', 'sighed', 'as', 'he', 'remembered', 'how', 'much', 'his', 'life', 'had', 'changed', 'since', 'those', 'days', '.', 'He', 'had', 'grown', 'up', ',', 'gotten', 'married', ',', 'and', 'had', 'children', 'of', 'his', 'own', '.', 'He', 'had', 'worked', 'hard', 'all', 'his', 'life', ',', 'and', 'he', 'had', 'achieved', 'a', 'lot', '.', 'But', 'now', ',', 'he', 'was', 'old', 'and', 'tired', '.', 'He', 'had', 'lost', 'his', 'wife', ',', 'and', 'his', 'children', 'were', 'grown', 'and', 'gone', '.', 'He', 'was', 'all', 'alone', 'in', 'the', 'world', '.', 'But', 'even', 'though', 'he', 'was', 'old', 'and', 'tired', ',', 'the', 'old', 'man', 'still', 'loved', 'to', 'watch', 'the', 'children', 'play', '.', 'He', 'loved', 'to', 'see', 'their', 'laughter', 'and', 'their', 'joy', '.', 'He', 'loved', 'to', 'see', 'them', 'running', 'and', 'playing', ',', 'and', 'he', 'loved', 'to', 'see', 'them', 'exploring', 'the', 'world', 'around', 'them', '.', 'The', 'old', 'man', 'knew', 'that', 'one', 'day', ',', 'they', 'would', 'grow', 'up', 'and', 'leave', 'him', 'just', 'like', 'his', 'own', 'children', 'had', '.', 'But', 'until', 'then', ',', 'he', 'would', 'enjoy', 'watching', 'them', 'play', ',', 'and', 'he', 'would', 'cherish', 'the', 'memories', 'of', 'his', 'own', 'childhood', '.']\n",
            "['old', 'man', 'sat', 'bench', ',', 'watching', 'children', 'play', '.', 'smiled', 'remembered', 'time', 'young', 'carefree', ',', 'like', '.', 'always', 'loved', 'play', ',', 'always', 'good', '.', 'fastest', 'runner', 'block', ',', 'could', 'climb', 'trees', 'higher', 'anyone', 'else', '.', 'also', 'best', 'hide-and-seek', ',', 'could', 'always', 'find', 'best', 'hiding', 'spots', '.', 'old', 'man', 'sighed', 'remembered', 'much', 'life', 'changed', 'since', 'days', '.', 'grown', ',', 'gotten', 'married', ',', 'children', '.', 'worked', 'hard', 'life', ',', 'achieved', 'lot', '.', ',', 'old', 'tired', '.', 'lost', 'wife', ',', 'children', 'grown', 'gone', '.', 'alone', 'world', '.', 'even', 'though', 'old', 'tired', ',', 'old', 'man', 'still', 'loved', 'watch', 'children', 'play', '.', 'loved', 'see', 'laughter', 'joy', '.', 'loved', 'see', 'running', 'playing', ',', 'loved', 'see', 'exploring', 'world', 'around', '.', 'old', 'man', 'knew', 'one', 'day', ',', 'would', 'grow', 'leave', 'like', 'children', '.', ',', 'would', 'enjoy', 'watching', 'play', ',', 'would', 'cherish', 'memories', 'childhood', '.']\n"
          ]
        }
      ]
    },
    {
      "cell_type": "markdown",
      "source": [
        "2. Removing of punctuation marks"
      ],
      "metadata": {
        "id": "5LjlgXyKTzdH"
      }
    },
    {
      "cell_type": "code",
      "source": [
        "punctuation_marks='''!()-[]{};:'\"\\,<>./?@#$%^&*_~'''\n",
        "final_sentence=\"\"\n",
        "for i in filtered_sentence:\n",
        "  if i not in punctuation_marks:\n",
        "    final_sentence+=i+' '\n",
        "print(final_sentence)"
      ],
      "metadata": {
        "colab": {
          "base_uri": "https://localhost:8080/"
        },
        "id": "1LYYwJ4wS9mo",
        "outputId": "f454ba46-003c-4c1e-8d36-3dbc3b3b69b6"
      },
      "execution_count": 13,
      "outputs": [
        {
          "output_type": "stream",
          "name": "stdout",
          "text": [
            "old man sat bench watching children play smiled remembered time young carefree like always loved play always good fastest runner block could climb trees higher anyone else also best hide-and-seek could always find best hiding spots old man sighed remembered much life changed since days grown gotten married children worked hard life achieved lot old tired lost wife children grown gone alone world even though old tired old man still loved watch children play loved see laughter joy loved see running playing loved see exploring world around old man knew one day would grow leave like children would enjoy watching play would cherish memories childhood \n"
          ]
        }
      ]
    }
  ],
  "metadata": {
    "colab": {
      "provenance": [],
      "mount_file_id": "17-sapy8aMWhQop3eOiDXyuVKJn0Nqe2p",
      "authorship_tag": "ABX9TyO7UpxNAGVdKeTRUfLgMg5b",
      "include_colab_link": true
    },
    "kernelspec": {
      "display_name": "Python 3",
      "name": "python3"
    },
    "language_info": {
      "name": "python"
    }
  },
  "nbformat": 4,
  "nbformat_minor": 0
}